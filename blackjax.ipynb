{
  "nbformat": 4,
  "nbformat_minor": 0,
  "metadata": {
    "colab": {
      "name": "blackjax",
      "provenance": []
    },
    "kernelspec": {
      "name": "python3",
      "display_name": "Python 3"
    },
    "language_info": {
      "name": "python"
    }
  },
  "cells": [
    {
      "cell_type": "code",
      "source": [
        "pip install blackjax"
      ],
      "metadata": {
        "colab": {
          "base_uri": "https://localhost:8080/"
        },
        "id": "8AeB8jRn5vSG",
        "outputId": "26c13f0d-6f1b-41ff-f800-023f73c2a2a6"
      },
      "execution_count": 16,
      "outputs": [
        {
          "output_type": "stream",
          "name": "stdout",
          "text": [
            "Requirement already satisfied: blackjax in /usr/local/lib/python3.7/dist-packages (0.4.0)\n"
          ]
        }
      ]
    },
    {
      "cell_type": "code",
      "source": [
        "loc, scale = 10, 20\n",
        "observed = np.random.normal(loc, scale, size=1_000)"
      ],
      "metadata": {
        "id": "QKlmK_IKITUJ"
      },
      "execution_count": 17,
      "outputs": []
    },
    {
      "cell_type": "code",
      "source": [
        "def logprob_fn(loc, scale, observed=observed):\n",
        "    \"\"\"Univariate Normal\"\"\"\n",
        "    logpdf = stats.norm.logpdf(observed, loc, scale)\n",
        "    return jnp.sum(logpdf)\n",
        "\n",
        "\n",
        "logprob = lambda x: logprob_fn(**x)"
      ],
      "metadata": {
        "id": "_97n1n_kIXOq"
      },
      "execution_count": 18,
      "outputs": []
    },
    {
      "cell_type": "code",
      "source": [
        "inv_mass_matrix = np.array([0.5, 0.5])\n",
        "num_integration_steps = 60\n",
        "step_size = 1e-3\n",
        "\n",
        "hmc = blackjax.hmc(logprob, step_size, inv_mass_matrix, num_integration_steps)"
      ],
      "metadata": {
        "id": "SIMUxzNNIb_4"
      },
      "execution_count": 19,
      "outputs": []
    },
    {
      "cell_type": "code",
      "source": [
        "initial_position = {\"loc\": 1.0, \"scale\": 2.0}\n",
        "initial_state = hmc.init(initial_position)\n",
        "initial_state"
      ],
      "metadata": {
        "colab": {
          "base_uri": "https://localhost:8080/"
        },
        "id": "oSPe2u5AIdhJ",
        "outputId": "a198de51-72b1-45e6-835a-220d65d6545e"
      },
      "execution_count": 20,
      "outputs": [
        {
          "output_type": "execute_result",
          "data": {
            "text/plain": [
              "HMCState(position={'loc': 1.0, 'scale': 2.0}, potential_energy=DeviceArray(57969.598, dtype=float32), potential_energy_grad={'loc': DeviceArray(-2287.88, dtype=float32, weak_type=True), 'scale': DeviceArray(-55857.51, dtype=float32, weak_type=True)})"
            ]
          },
          "metadata": {},
          "execution_count": 20
        }
      ]
    }
  ]
}